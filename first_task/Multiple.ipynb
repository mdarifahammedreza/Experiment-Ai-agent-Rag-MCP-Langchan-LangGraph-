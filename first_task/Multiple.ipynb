{
 "cells": [
  {
   "cell_type": "code",
   "execution_count": 1,
   "id": "8ee95c3c",
   "metadata": {},
   "outputs": [],
   "source": [
    "from typing import Dict,TypedDict\n",
    "from langgraph.graph import StateGraph"
   ]
  },
  {
   "cell_type": "code",
   "execution_count": 2,
   "id": "1fa24a96",
   "metadata": {},
   "outputs": [],
   "source": [
    "class AgentSate(TypedDict):\n",
    "    values:list[int]\n",
    "    name:str\n",
    "    result:str\n",
    "    "
   ]
  },
  {
   "cell_type": "code",
   "execution_count": 3,
   "id": "66f6787a",
   "metadata": {},
   "outputs": [],
   "source": [
    "def process_values(state:AgentSate)->AgentSate:\n",
    "    \"\"\"This function process handla multiple different inputs\"\"\"\n",
    "    state['result']=f\"Hi There {state['name']}! your result sum{sum(state['values'])} \"\n",
    "    return state"
   ]
  },
  {
   "cell_type": "code",
   "execution_count": 4,
   "id": "ccfd6960",
   "metadata": {},
   "outputs": [],
   "source": [
    "graph = StateGraph(AgentSate)\n",
    "graph.add_node('processor',process_values)\n",
    "\n",
    "graph.set_entry_point(\"processor\")\n",
    "graph.set_finish_point(\"processor\")\n",
    "app=graph.compile()\n",
    "\n"
   ]
  },
  {
   "cell_type": "code",
   "execution_count": 5,
   "id": "b093404e",
   "metadata": {},
   "outputs": [
    {
     "data": {
      "text/plain": [
       "'Hi There reza! your result sum15 '"
      ]
     },
     "execution_count": 5,
     "metadata": {},
     "output_type": "execute_result"
    }
   ],
   "source": [
    "result=app.invoke({'values':[1,2,3,4,5],'name':'reza'})\n",
    "result['result']"
   ]
  }
 ],
 "metadata": {
  "kernelspec": {
   "display_name": "Python 3",
   "language": "python",
   "name": "python3"
  },
  "language_info": {
   "codemirror_mode": {
    "name": "ipython",
    "version": 3
   },
   "file_extension": ".py",
   "mimetype": "text/x-python",
   "name": "python",
   "nbconvert_exporter": "python",
   "pygments_lexer": "ipython3",
   "version": "3.13.3"
  }
 },
 "nbformat": 4,
 "nbformat_minor": 5
}
