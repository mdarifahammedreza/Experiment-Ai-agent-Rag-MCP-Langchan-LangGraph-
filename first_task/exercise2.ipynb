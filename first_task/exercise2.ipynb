{
 "cells": [
  {
   "cell_type": "code",
   "execution_count": 15,
   "id": "b37a9f6c",
   "metadata": {},
   "outputs": [],
   "source": [
    "from typing import Dict,TypedDict\n",
    "from langgraph.graph import StateGraph\n",
    "import math\n",
    "class AgentState(TypedDict):\n",
    "    name:str\n",
    "    operation:str\n",
    "    values:list[int]\n",
    "    result:int\n",
    "    final:str\n",
    "    error:str"
   ]
  },
  {
   "cell_type": "code",
   "execution_count": 22,
   "id": "553b644a",
   "metadata": {},
   "outputs": [],
   "source": [
    "def sum_node(sate:AgentState)->AgentState:\n",
    "    \"\"\"This node can make mathmatical operation of some value\"\"\"\n",
    "    if(sate['operation']=='+'):\n",
    "        sate['result']=sum(sate['values'])\n",
    "    elif(sate['operation']=='*'):\n",
    "        sate['result']= math.prod(sate['values'])\n",
    "    else:\n",
    "        return {'error':\"operation sign not valid\"}\n",
    "    \n",
    "    sate['final']=f\"Hi {sate['name']} ,your answer is : {sate['result']}\"\n",
    "    return sate\n"
   ]
  },
  {
   "cell_type": "code",
   "execution_count": 24,
   "id": "862e4711",
   "metadata": {},
   "outputs": [],
   "source": [
    "graph = StateGraph(AgentState)\n",
    "graph.add_node('sum_node',sum_node)\n",
    "\n",
    "graph.set_entry_point('sum_node')\n",
    "graph.set_finish_point('sum_node')\n",
    "app=graph.compile()"
   ]
  },
  {
   "cell_type": "code",
   "execution_count": 26,
   "id": "452f74e5",
   "metadata": {},
   "outputs": [
    {
     "data": {
      "text/plain": [
       "'Hi Reza ,your answer is : 15'"
      ]
     },
     "execution_count": 26,
     "metadata": {},
     "output_type": "execute_result"
    }
   ],
   "source": [
    "result=app.invoke({'name':'Reza','operation':'+','values':[1,2,3,4,5]})\n",
    "result['final']"
   ]
  }
 ],
 "metadata": {
  "kernelspec": {
   "display_name": "Python 3",
   "language": "python",
   "name": "python3"
  },
  "language_info": {
   "codemirror_mode": {
    "name": "ipython",
    "version": 3
   },
   "file_extension": ".py",
   "mimetype": "text/x-python",
   "name": "python",
   "nbconvert_exporter": "python",
   "pygments_lexer": "ipython3",
   "version": "3.13.3"
  }
 },
 "nbformat": 4,
 "nbformat_minor": 5
}
