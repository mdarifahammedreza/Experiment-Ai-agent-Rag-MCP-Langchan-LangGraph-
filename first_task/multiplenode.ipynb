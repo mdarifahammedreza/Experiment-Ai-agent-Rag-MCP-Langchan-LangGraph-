{
 "cells": [
  {
   "cell_type": "code",
   "execution_count": 1,
   "id": "20a8c465",
   "metadata": {},
   "outputs": [],
   "source": [
    "from typing import Dict,TypedDict\n",
    "from langgraph.graph import StateGraph\n",
    "class AgentState(TypedDict):\n",
    "    name:str\n",
    "    age:str\n",
    "    final:str"
   ]
  },
  {
   "cell_type": "code",
   "execution_count": 2,
   "id": "14891c93",
   "metadata": {},
   "outputs": [],
   "source": [
    "def first_node(state:AgentState)->AgentState:\n",
    "    \"\"\"This is the first node of sequence\"\"\"\n",
    "    state['final']=f'HI {state[\"name\"]}'\n",
    "    return state\n",
    "def second_node(state:AgentState)->AgentState:\n",
    "    \"\"\"This is the 2nd node of sequence\"\"\"\n",
    "    state['final']=f'{state[\"final\"]} & your age is {state[\"age\"]}'\n",
    "    return state"
   ]
  },
  {
   "cell_type": "code",
   "execution_count": 4,
   "id": "e52ce2ef",
   "metadata": {},
   "outputs": [
    {
     "data": {
      "text/plain": [
       "'HI reza & your age is 22'"
      ]
     },
     "execution_count": 4,
     "metadata": {},
     "output_type": "execute_result"
    }
   ],
   "source": [
    "graph= StateGraph(AgentState)\n",
    "graph.add_node(\"first\",first_node)\n",
    "graph.add_node(\"seccond\",second_node)\n",
    "\n",
    "\n",
    "graph.set_entry_point(\"first\")\n",
    "graph.add_edge(\"first\",\"seccond\")\n",
    "graph.set_finish_point(\"seccond\")\n",
    "app=graph.compile()\n",
    "result=app.invoke({'name':'reza','age':\"22\"})\n",
    "result['final']"
   ]
  },
  {
   "cell_type": "code",
   "execution_count": null,
   "id": "da64ec11",
   "metadata": {},
   "outputs": [],
   "source": []
  }
 ],
 "metadata": {
  "kernelspec": {
   "display_name": "Python 3",
   "language": "python",
   "name": "python3"
  },
  "language_info": {
   "codemirror_mode": {
    "name": "ipython",
    "version": 3
   },
   "file_extension": ".py",
   "mimetype": "text/x-python",
   "name": "python",
   "nbconvert_exporter": "python",
   "pygments_lexer": "ipython3",
   "version": "3.13.3"
  }
 },
 "nbformat": 4,
 "nbformat_minor": 5
}
