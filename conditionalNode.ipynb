{
 "cells": [
  {
   "cell_type": "code",
   "execution_count": 6,
   "id": "6ad2f142",
   "metadata": {},
   "outputs": [],
   "source": [
    "from typing import Dict,TypedDict\n",
    "from langgraph.graph import StateGraph,START,END\n",
    "class AgentState(TypedDict):\n",
    "   number:int\n",
    "   number2:int\n",
    "   finalnumber:int\n",
    "   operation:str"
   ]
  },
  {
   "cell_type": "code",
   "execution_count": 7,
   "id": "9a2e0f31",
   "metadata": {},
   "outputs": [],
   "source": [
    "def adder(state:AgentState)->AgentState:\n",
    "    \"\"\"this is 1st node\"\"\"\n",
    "    state['finalnumber']=state['number']+state['number2']\n",
    "    return state\n",
    "\n",
    "\n",
    "def sub(state:AgentState)->AgentState:\n",
    "    \"\"\"this is 1st node\"\"\"\n",
    "    state['finalnumber']=state['number']-state['number2']\n",
    "    return state\n",
    "\n",
    "def decide_next(state:AgentState)->AgentState:\n",
    "    \"\"\"this is conditional node to decidie operation\"\"\"\n",
    "    if state['operation'] == \"+\":\n",
    "        return 'addition'\n",
    "    elif state['operation'] ==\"-\":\n",
    "        return 'subtraction'\n",
    "    "
   ]
  },
  {
   "cell_type": "code",
   "execution_count": 16,
   "id": "95322938",
   "metadata": {},
   "outputs": [
    {
     "data": {
      "text/plain": [
       "{'number': 5, 'number2': 5, 'finalnumber': 0, 'operation': '-'}"
      ]
     },
     "execution_count": 16,
     "metadata": {},
     "output_type": "execute_result"
    }
   ],
   "source": [
    "graph= StateGraph(AgentState)\n",
    "\n",
    "graph.add_node(\"add\",adder)\n",
    "graph.add_node(\"sub\",sub)\n",
    "graph.add_node('con',lambda state:state) #passthrough funtion\n",
    "\n",
    "graph.add_edge(START,\"con\")\n",
    "graph.add_conditional_edges(\n",
    "    'con',\n",
    "    decide_next,\n",
    "    {\n",
    "        \"addition\":\"add\",\n",
    "        \"subtraction\":\"sub\"\n",
    "    }\n",
    "\n",
    ")\n",
    "graph.add_edge(\"add\",END)\n",
    "graph.add_edge(\"sub\",END)\n",
    "app=graph.compile()\n",
    "app.invoke({'number':5,'number2':5,'operation':'-'})"
   ]
  }
 ],
 "metadata": {
  "kernelspec": {
   "display_name": "Python 3",
   "language": "python",
   "name": "python3"
  },
  "language_info": {
   "codemirror_mode": {
    "name": "ipython",
    "version": 3
   },
   "file_extension": ".py",
   "mimetype": "text/x-python",
   "name": "python",
   "nbconvert_exporter": "python",
   "pygments_lexer": "ipython3",
   "version": "3.13.3"
  }
 },
 "nbformat": 4,
 "nbformat_minor": 5
}
