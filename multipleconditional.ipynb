{
 "cells": [
  {
   "cell_type": "code",
   "execution_count": 34,
   "id": "a58e92cf",
   "metadata": {},
   "outputs": [],
   "source": [
    "from langgraph.graph import StateGraph,START,END\n",
    "from typing import Dict,TypedDict\n",
    "from typing import TypedDict\n",
    "\n",
    "class AgentState(TypedDict):\n",
    "    number1: int\n",
    "    number2: int\n",
    "    number3: int\n",
    "    operation: str\n",
    "    operation2: str\n",
    "    result: int"
   ]
  },
  {
   "cell_type": "code",
   "execution_count": 35,
   "id": "0ab4095e",
   "metadata": {},
   "outputs": [],
   "source": [
    "def add(state:AgentState)->AgentState:\n",
    "    state['result']= state['number1']+state['number2']\n",
    "    return state\n",
    "\n",
    "def sub(state:AgentState)->AgentState:\n",
    "    state['result']=state['number1']-state['number2']\n",
    "    return state\n",
    "\n",
    "def mul(state:AgentState)->AgentState:\n",
    "   \n",
    "\n",
    "\n",
    "    state['result']= state['result']*state['number3']\n",
    "    return state\n",
    "def add2(state:AgentState)->AgentState:\n",
    "    state['result']= state['number1']+state['number2']\n",
    "    return state\n",
    "\n",
    "def sub2(state:AgentState)->AgentState:\n",
    "    state['result']=state['number1']-state['number2']\n",
    "    return state\n",
    "\n",
    "def mul2(state:AgentState)->AgentState:\n",
    "   \n",
    "    state['result']= state['result']*state['number3']\n",
    "    return state\n",
    "def decide_next(state:AgentState)->AgentState:\n",
    "    if state['operation'] == \"+\":\n",
    "        return 'add'\n",
    "    elif state['operation']=='-':\n",
    "        return 'sub'\n",
    "    elif state['operation']=='*':\n",
    "        return 'mul'\n",
    "def decide_next2(state:AgentState)->AgentState:\n",
    "    if state['operation2'] == \"+\":\n",
    "        return 'add2'\n",
    "    elif state['operation2']=='-':\n",
    "        return 'sub2'\n",
    "    elif state['operation2']=='*':\n",
    "        return 'mul2'"
   ]
  },
  {
   "cell_type": "code",
   "execution_count": 36,
   "id": "71eb91c5",
   "metadata": {},
   "outputs": [
    {
     "data": {
      "text/plain": [
       "{'number1': 5,\n",
       " 'number2': 4,\n",
       " 'number3': 2,\n",
       " 'operation': '*',\n",
       " 'operation2': '*',\n",
       " 'result': 0}"
      ]
     },
     "execution_count": 36,
     "metadata": {},
     "output_type": "execute_result"
    }
   ],
   "source": [
    "graph = StateGraph(AgentState)\n",
    "graph.add_node('add',add)\n",
    "graph.add_node('sub',sub)\n",
    "graph.add_node('mul',mul)\n",
    "graph.add_node('add2',add2)\n",
    "graph.add_node('sub2',sub2)\n",
    "graph.add_node('mul2',mul2)\n",
    "graph.add_node('con',lambda state:state)\n",
    "graph.add_node('con2',lambda state:state)\n",
    "graph.add_edge(START,'con')\n",
    "graph.add_conditional_edges(\n",
    "    'con',\n",
    "    decide_next,\n",
    "    {\n",
    "        'add':'add',\n",
    "        'sub':'sub',\n",
    "        'mul':'mul'\n",
    "\n",
    "    }\n",
    ")\n",
    "graph.add_edge('add','con2')\n",
    "graph.add_edge('sub','con2')\n",
    "graph.add_edge('mul','con2')\n",
    "graph.add_conditional_edges(\n",
    "    'con2',                        \n",
    "    decide_next2,\n",
    "    {\n",
    "        'add2':'add2',\n",
    "        'sub2':'sub2',\n",
    "        'mul2':'mul2'\n",
    "\n",
    "    }\n",
    ")\n",
    "graph.add_edge('add2',END)\n",
    "graph.add_edge('sub2',END)\n",
    "graph.add_edge('mul2',END)\n",
    "\n",
    "graph.compile().invoke({\n",
    "    'number1': 5,\n",
    "    'number2': 4,\n",
    "    'number3': 2,\n",
    "    'operation': '*',\n",
    "    'operation2': '*',\n",
    "    'result': 0\n",
    "})\n",
    "\n"
   ]
  }
 ],
 "metadata": {
  "kernelspec": {
   "display_name": "Python 3",
   "language": "python",
   "name": "python3"
  },
  "language_info": {
   "codemirror_mode": {
    "name": "ipython",
    "version": 3
   },
   "file_extension": ".py",
   "mimetype": "text/x-python",
   "name": "python",
   "nbconvert_exporter": "python",
   "pygments_lexer": "ipython3",
   "version": "3.13.3"
  }
 },
 "nbformat": 4,
 "nbformat_minor": 5
}
